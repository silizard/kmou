{
  "nbformat": 4,
  "nbformat_minor": 0,
  "metadata": {
    "colab": {
      "provenance": [],
      "authorship_tag": "ABX9TyOSj8F1sGiGk6O0VlSvLwxW",
      "include_colab_link": true
    },
    "kernelspec": {
      "name": "python3",
      "display_name": "Python 3"
    },
    "language_info": {
      "name": "python"
    }
  },
  "cells": [
    {
      "cell_type": "markdown",
      "metadata": {
        "id": "view-in-github",
        "colab_type": "text"
      },
      "source": [
        "<a href=\"https://colab.research.google.com/github/silizard/kmou/blob/main/%EC%BB%B4%EC%96%B8%EC%96%B43_4%EC%A3%BC%EC%B0%A8.ipynb\" target=\"_parent\"><img src=\"https://colab.research.google.com/assets/colab-badge.svg\" alt=\"Open In Colab\"/></a>"
      ]
    },
    {
      "cell_type": "markdown",
      "source": [
        "**환경준비**"
      ],
      "metadata": {
        "id": "vT4kJh3q-qhm"
      }
    },
    {
      "cell_type": "code",
      "execution_count": 2,
      "metadata": {
        "id": "fp1eIj7Luhj7"
      },
      "outputs": [],
      "source": [
        "import numpy as np\n",
        "import pandas as pd"
      ]
    },
    {
      "cell_type": "markdown",
      "source": [
        "**데이터준비**"
      ],
      "metadata": {
        "id": "E9tOImdV-vB9"
      }
    },
    {
      "cell_type": "code",
      "source": [
        "x = np.array([2, 4, 6, 8])\n",
        "y = np.array([81, 93, 91, 97])"
      ],
      "metadata": {
        "id": "FhQp1tggwGvS"
      },
      "execution_count": 13,
      "outputs": []
    },
    {
      "cell_type": "markdown",
      "source": [
        "**그래프에 식 도출**"
      ],
      "metadata": {
        "id": "5tIEB_TP_XD1"
      }
    },
    {
      "cell_type": "code",
      "source": [
        "def dividend_f(x, y, mx, my):\n",
        "  d = 0\n",
        "  for i in range(len(x)):\n",
        "    d += (x[i] - mx) * (y[i] - my)\n",
        "  return d\n",
        "\n",
        "mx = np.mean(x)\n",
        "my = np.mean(y)\n",
        "print(\"x의 평균값: {}\" .format(mx))\n",
        "print(\"y의 평균값: {}\" .format(my), end=\"\\n\\n\")\n",
        "\n",
        "divisor = sum([(i - mx) ** 2 for i in x])\n",
        "dividend = dividend_f(x, y, mx, my)\n",
        "print(\"분모: {}\" .format(divisor))\n",
        "print(\"분자: {}\" .format(dividend), end=\"\\n\\n\")\n",
        "\n",
        "a = dividend / divisor\n",
        "b = my - (mx * a)\n",
        "print(\"기울기 a : {}\" .format(a))\n",
        "print(\"y 절편 b : {}\" .format(b))"
      ],
      "metadata": {
        "colab": {
          "base_uri": "https://localhost:8080/"
        },
        "id": "J3o4q-hUyfaw",
        "outputId": "53450a77-e624-443d-b2d5-1fabb8e53199"
      },
      "execution_count": 34,
      "outputs": [
        {
          "output_type": "stream",
          "name": "stdout",
          "text": [
            "x의 평균값: 5.0\n",
            "y의 평균값: 90.5\n",
            "\n",
            "분모: 20.0\n",
            "분자: 46.0\n",
            "\n",
            "기울기 a : 2.3\n",
            "y 절편 b : 79.0\n"
          ]
        }
      ]
    },
    {
      "cell_type": "code",
      "source": [
        "def predict(a, b, x):\n",
        "  return a*x+b\n",
        "\n",
        "def mse(y, y_pred):\n",
        "  return sum([(y[i] - y_pred[i])**2 for i in range(len(y))]) / len(y)\n",
        "\n",
        "fake_a = 3\n",
        "fake_b = 76\n",
        "\n",
        "predict_result = []\n",
        "for i in range(len(x)):\n",
        "  predict_result.append(predict(fake_a, fake_b, x[i]))\n",
        "\n",
        "for i in range(len(x)):\n",
        "  print(\"공부시간={}, 실제점수={}, 예측점수={}\" .format(x[i], y[i], predict_result[i]), end = \"\\n\\n\")\n",
        "\n",
        "print(\"평균 제곱 오차: {}\" .format(mse(y, predict_result)))"
      ],
      "metadata": {
        "colab": {
          "base_uri": "https://localhost:8080/"
        },
        "id": "E8CiOuwi3N83",
        "outputId": "4137212c-d0fe-4dfd-f871-da53bab4dfa1"
      },
      "execution_count": 33,
      "outputs": [
        {
          "output_type": "stream",
          "name": "stdout",
          "text": [
            "공부시간=2, 실제점수=81, 예측점수=82\n",
            "\n",
            "공부시간=4, 실제점수=93, 예측점수=88\n",
            "\n",
            "공부시간=6, 실제점수=91, 예측점수=94\n",
            "\n",
            "공부시간=8, 실제점수=97, 예측점수=100\n",
            "\n",
            "평균 제곱 오차: 11.0\n"
          ]
        }
      ]
    }
  ]
}